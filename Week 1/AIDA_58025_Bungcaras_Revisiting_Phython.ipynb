{
  "nbformat": 4,
  "nbformat_minor": 0,
  "metadata": {
    "colab": {
      "name": "AIDA 58025 Bungcaras - Revisiting Phython.ipynb",
      "provenance": [],
      "authorship_tag": "ABX9TyPVP6yUHJ9gdq+xNVU0v76c",
      "include_colab_link": true
    },
    "kernelspec": {
      "name": "python3",
      "display_name": "Python 3"
    }
  },
  "cells": [
    {
      "cell_type": "markdown",
      "metadata": {
        "id": "view-in-github",
        "colab_type": "text"
      },
      "source": [
        "<a href=\"https://colab.research.google.com/github/jbngcrs/AIDA/blob/main/Week%201/AIDA_58025_Bungcaras_Revisiting_Phython.ipynb\" target=\"_parent\"><img src=\"https://colab.research.google.com/assets/colab-badge.svg\" alt=\"Open In Colab\"/></a>"
      ]
    },
    {
      "cell_type": "markdown",
      "metadata": {
        "id": "jmXD0-tw7YHF"
      },
      "source": [
        "# Revisiting Python\r\n",
        "(Copy right logo) J. Bungcaras (2021)\r\n",
        "\r\n",
        "This notebook disucess the basic and intermediate \r\n",
        "Python coding principles and coding design."
      ]
    },
    {
      "cell_type": "markdown",
      "metadata": {
        "id": "XyiI0xJX7-Qy"
      },
      "source": [
        "## Part 1: Programming Logic and Design \r\n",
        "\r\n",
        "In this section, we will revisit Programming Logic and Design using the Python Language.\r\n",
        "\r\n",
        "\r\n",
        "Discussion about Python"
      ]
    },
    {
      "cell_type": "code",
      "metadata": {
        "id": "vlnp44hO-Wg9"
      },
      "source": [
        ""
      ],
      "execution_count": null,
      "outputs": []
    },
    {
      "cell_type": "markdown",
      "metadata": {
        "id": "Vo3m5HaZ8vbX"
      },
      "source": [
        "### 1.1 Variables and Printing Values\r\n"
      ]
    },
    {
      "cell_type": "code",
      "metadata": {
        "id": "TwAEJtj35x3y"
      },
      "source": [
        "# This is a C++ line of code\r\n",
        "# int x = 2;\r\n",
        "# cout << x;\r\n",
        "# Now this is a Python line of code\r\n",
        "x = 2\r\n",
        "# print(x)\r\n",
        "# print (type(x))\r\n",
        "# print(\"The data type of x is\",type(x),\"and its value is\",x,\".\")\r\n",
        "# print(f\"The data type of x is {type(x)} and its value is {x}.\")\r\n",
        "# print(f\"The data type of x is {} and its value is {}.\".format (type(x),x))\r\n",
        "\r\n"
      ],
      "execution_count": null,
      "outputs": []
    },
    {
      "cell_type": "markdown",
      "metadata": {
        "id": "IW_FXVR78Hth"
      },
      "source": [
        "## Part 2: Object-Oriented Programming "
      ]
    },
    {
      "cell_type": "code",
      "metadata": {
        "id": "ewGmLMWx8MGH"
      },
      "source": [
        "1 "
      ],
      "execution_count": null,
      "outputs": []
    },
    {
      "cell_type": "markdown",
      "metadata": {
        "id": "F8jxuX1S8N2Q"
      },
      "source": [
        "## Part 3: Data Structures and Algorithms"
      ]
    },
    {
      "cell_type": "code",
      "metadata": {
        "id": "3__icNqd8SI3"
      },
      "source": [
        ""
      ],
      "execution_count": null,
      "outputs": []
    }
  ]
}